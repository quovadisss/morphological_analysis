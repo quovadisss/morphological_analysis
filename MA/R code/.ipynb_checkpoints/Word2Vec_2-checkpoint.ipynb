{
 "cells": [
  {
   "cell_type": "code",
   "execution_count": 1,
   "metadata": {},
   "outputs": [],
   "source": [
    "import re, time\n",
    "import pandas as pd\n",
    "import numpy as np\n",
    "import matplotlib.pyplot as plt\n",
    "from lxml import etree\n",
    "from nltk.tokenize import word_tokenize, sent_tokenize\n",
    "from sklearn.manifold import TSNE\n",
    "from sklearn.cluster import KMeans, MeanShift, estimate_bandwidth, DBSCAN\n",
    "from sklearn.decomposition import PCA\n",
    "from sklearn.metrics import silhouette_samples, silhouette_score\n",
    "from sklearn.mixture import GaussianMixture\n",
    "from nltk.tag import pos_tag\n",
    "from collections import Counter\n",
    "from matplotlib import cm\n",
    "\n",
    "import gensim, pickle, math\n",
    "%matplotlib inline"
   ]
  },
  {
   "cell_type": "markdown",
   "metadata": {},
   "source": [
    "# # w2v using pretrained google news model"
   ]
  },
  {
   "cell_type": "code",
   "execution_count": 4,
   "metadata": {},
   "outputs": [],
   "source": [
    "# Load pretrained google news w2v model\n",
    "model = gensim.models.KeyedVectors.load_word2vec_format('GoogleNews-vectors-negative300.bin', binary=True)  "
   ]
  },
  {
   "cell_type": "code",
   "execution_count": 5,
   "metadata": {},
   "outputs": [],
   "source": [
    "# get 300 dimensions w2v for each list\n",
    "def get_w2v(x):\n",
    "    text = []\n",
    "    get_w2v_list = []\n",
    "    for i in x:\n",
    "        try:\n",
    "            w2v = model[i]\n",
    "            get_w2v_list.append(w2v)\n",
    "            text.append(i)\n",
    "        except KeyError:\n",
    "            pass\n",
    "    return get_w2v_list, text"
   ]
  },
  {
   "cell_type": "markdown",
   "metadata": {},
   "source": [
    "# # K-means"
   ]
  },
  {
   "cell_type": "code",
   "execution_count": 30,
   "metadata": {},
   "outputs": [],
   "source": [
    "def elbow(X):\n",
    "    sse = []\n",
    "    for i in range(5, 40):\n",
    "        km = KMeans(n_clusters=i, init='k-means++', random_state=0)\n",
    "        km.fit(X)\n",
    "        sse.append(km.inertia_)\n",
    "        print(i)\n",
    "        \n",
    "    plt.plot(range(5, 40), sse, marker='o')\n",
    "    plt.xlabel('Number of clusters')\n",
    "    plt.ylabel('SSE')\n",
    "    plt.title('Elbow of NORP')\n",
    "    plt.savefig('elbow_norp.png')\n",
    "    plt.show()\n",
    "    plt.clf()"
   ]
  },
  {
   "cell_type": "code",
   "execution_count": 31,
   "metadata": {
    "scrolled": false
   },
   "outputs": [
    {
     "name": "stdout",
     "output_type": "stream",
     "text": [
      "5\n",
      "6\n",
      "7\n",
      "8\n",
      "9\n",
      "10\n",
      "11\n",
      "12\n",
      "13\n",
      "14\n",
      "15\n",
      "16\n",
      "17\n",
      "18\n",
      "19\n",
      "20\n",
      "21\n",
      "22\n",
      "23\n",
      "24\n",
      "25\n",
      "26\n",
      "27\n",
      "28\n",
      "29\n",
      "30\n",
      "31\n",
      "32\n",
      "33\n",
      "34\n",
      "35\n",
      "36\n",
      "37\n",
      "38\n",
      "39\n"
     ]
    },
    {
     "data": {
      "image/png": "[encoded data removed]",
      "text/plain": [
       "<Figure size 432x288 with 1 Axes>"
      ]
     },
     "metadata": {
      "needs_background": "light"
     },
     "output_type": "display_data"
    },
    {
     "data": {
      "text/plain": [
       "<Figure size 432x288 with 0 Axes>"
      ]
     },
     "metadata": {},
     "output_type": "display_data"
    }
   ],
   "source": [
    "elbow(norp_w2v)"
   ]
  },
  {
   "cell_type": "code",
   "execution_count": 9,
   "metadata": {},
   "outputs": [],
   "source": [
    "# K means, word/Index dictionary\n",
    "def k_means(x, num_culsters, y):\n",
    "    # pca_result = PCA_reduction(x)\n",
    "    kmeans_clustering = KMeans(n_clusters = num_culsters)\n",
    "    idx = list(kmeans_clustering.fit_predict(x))\n",
    "    names = y\n",
    "    word_centroid_map = {names[i]: idx[i] for i in range(len(names))}\n",
    "    return word_centroid_map"
   ]
  },
  {
   "cell_type": "code",
   "execution_count": 38,
   "metadata": {},
   "outputs": [],
   "source": [
    "# K-means\n",
    "tech_cluster = k_means(tech_min_w2v, 195, tech_min_words)"
   ]
  },
  {
   "cell_type": "code",
   "execution_count": 38,
   "metadata": {},
   "outputs": [],
   "source": [
    "def cluster_df(x, y):\n",
    "    all_words = []\n",
    "    for cluster in range(0, y):\n",
    "        words = []\n",
    "        for i in range(0,len(list(x.values()))):\n",
    "            if(list(x.values())[i] == cluster):\n",
    "                words.append(list(x.keys())[i])\n",
    "        all_words.append(words)\n",
    "    number = 0\n",
    "    for i in all_words:\n",
    "        if len(i) <= 5 and len(i) >= 3:\n",
    "            number += 1\n",
    "    return number, all_words"
   ]
  },
  {
   "cell_type": "code",
   "execution_count": 55,
   "metadata": {
    "scrolled": true
   },
   "outputs": [
    {
     "data": {
      "text/plain": [
       "dict_items([('paro', 8), ('iam', 46), ('infosec', 41), ('lgbt', 43), ('thai', 30), ('ting', 20), ('gupta', 8), ('harper', 2), ('lieberman', 15), ('english', 45), ('czech', 15), ('democrat', 9), ('singaporean', 46), ('publicsector', 15), ('arab', 31), ('point', 15), ('informaticists', 4), ('america', 1), ('washington', 27), ('cio', 25), ('oracle', 35), ('welsh', 37), ('latin', 36), ('yorkers', 10), ('trinity', 47), ('threequarters', 23), ('american', 3), ('birmingham', 14), ('pcp', 6), ('week', 15), ('chan', 33), ('selfservice', 15), ('area', 0), ('adobe', 18), ('chinese', 34), ('cuban', 14), ('californian', 15), ('reed', 26), ('saudi', 14), ('jac', 15), ('hispanic', 5), ('portuguese', 14), ('denmark', 14), ('asian', 22), ('french', 28), ('yearold', 8), ('walmart', 16), ('canadian', 3), ('han', 20), ('katz', 15), ('europe', 19), ('iot', 15), ('trans', 44), ('filipino', 8), ('olympic', 7), ('mexico', 29), ('multihospital', 4), ('medicare', 13), ('john', 2), ('manoj', 8), ('australian', 32), ('european', 48), ('biobank', 11), ('patel', 8), ('laboratorians', 4), ('joshi', 8), ('healthcare', 42), ('philippine', 8), ('getgo', 15), ('nephrologists', 21), ('republican', 9), ('latino', 5), ('dutch', 49), ('kaiser', 24), ('google', 39), ('soc', 2), ('presbyterian', 15), ('intel', 17), ('schmidt', 15), ('rampup', 15), ('german', 40), ('congressperson', 38), ('tamil', 12)])"
      ]
     },
     "execution_count": 55,
     "metadata": {},
     "output_type": "execute_result"
    }
   ],
   "source": [
    "test_cluster = k_means(norp_w2v, 50, norp_new)\n",
    "test_cluster.items()"
   ]
  },
  {
   "cell_type": "code",
   "execution_count": 56,
   "metadata": {},
   "outputs": [
    {
     "name": "stdout",
     "output_type": "stream",
     "text": [
      "cluster_0\n",
      "['area']\n",
      "cluster_1\n",
      "['america']\n",
      "cluster_2\n",
      "['harper', 'john', 'soc']\n",
      "cluster_3\n",
      "['american', 'canadian']\n",
      "cluster_4\n",
      "['informaticists', 'multihospital', 'laboratorians']\n",
      "cluster_5\n",
      "['hispanic', 'latino']\n",
      "cluster_6\n",
      "['pcp']\n",
      "cluster_7\n",
      "['olympic']\n",
      "cluster_8\n",
      "['paro', 'gupta', 'yearold', 'filipino', 'manoj', 'patel', 'joshi', 'philippine']\n",
      "cluster_9\n",
      "['democrat', 'republican']\n",
      "cluster_10\n",
      "['yorkers']\n",
      "cluster_11\n",
      "['biobank']\n",
      "cluster_12\n",
      "['tamil']\n",
      "cluster_13\n",
      "['medicare']\n",
      "cluster_14\n",
      "['birmingham', 'cuban', 'saudi', 'portuguese', 'denmark']\n",
      "cluster_15\n",
      "['lieberman', 'czech', 'publicsector', 'point', 'week', 'selfservice', 'californian', 'jac', 'katz', 'iot', 'getgo', 'presbyterian', 'schmidt', 'rampup']\n",
      "cluster_16\n",
      "['walmart']\n",
      "cluster_17\n",
      "['intel']\n",
      "cluster_18\n",
      "['adobe']\n",
      "cluster_19\n",
      "['europe']\n",
      "cluster_20\n",
      "['ting', 'han']\n",
      "cluster_21\n",
      "['nephrologists']\n",
      "cluster_22\n",
      "['asian']\n",
      "cluster_23\n",
      "['threequarters']\n",
      "cluster_24\n",
      "['kaiser']\n",
      "cluster_25\n",
      "['cio']\n",
      "cluster_26\n",
      "['reed']\n",
      "cluster_27\n",
      "['washington']\n",
      "cluster_28\n",
      "['french']\n",
      "cluster_29\n",
      "['mexico']\n",
      "cluster_30\n",
      "['thai']\n",
      "cluster_31\n",
      "['arab']\n",
      "cluster_32\n",
      "['australian']\n",
      "cluster_33\n",
      "['chan']\n",
      "cluster_34\n",
      "['chinese']\n",
      "cluster_35\n",
      "['oracle']\n",
      "cluster_36\n",
      "['latin']\n",
      "cluster_37\n",
      "['welsh']\n",
      "cluster_38\n",
      "['congressperson']\n",
      "cluster_39\n",
      "['google']\n",
      "cluster_40\n",
      "['german']\n",
      "cluster_41\n",
      "['infosec']\n",
      "cluster_42\n",
      "['healthcare']\n",
      "cluster_43\n",
      "['lgbt']\n",
      "cluster_44\n",
      "['trans']\n",
      "cluster_45\n",
      "['english']\n",
      "cluster_46\n",
      "['iam', 'singaporean']\n",
      "cluster_47\n",
      "['trinity']\n",
      "cluster_48\n",
      "['european']\n",
      "cluster_49\n",
      "['dutch']\n"
     ]
    }
   ],
   "source": [
    "for i in range(50):\n",
    "    print('cluster_{}'.format(i))\n",
    "    words = []\n",
    "    for k, z in test_cluster.items():\n",
    "        if z == i:\n",
    "            words.append(k)\n",
    "    print(words)"
   ]
  },
  {
   "cell_type": "code",
   "execution_count": 44,
   "metadata": {
    "scrolled": true
   },
   "outputs": [
    {
     "name": "stdout",
     "output_type": "stream",
     "text": [
      "N of 1: 2\n",
      "N of clusters : 15\n",
      "N of 1: 3\n",
      "N of clusters : 20\n"
     ]
    }
   ],
   "source": [
    "# Choose the best number of clusters\n",
    "for i in range(5, 40, 5):\n",
    "    test_cluster = k_means(norp_w2v, i, norp_new)\n",
    "    # print('N of clusters :', i)\n",
    "    number, all_words = cluster_df(test_cluster, i)\n",
    "    if number >= 2:\n",
    "        print('N of 1:', number)\n",
    "        print('N of clusters :', i)\n",
    "    # print('Ratio:', np.round(number/i, 3))"
   ]
  },
  {
   "cell_type": "code",
   "execution_count": 39,
   "metadata": {},
   "outputs": [],
   "source": [
    "number_tech, final_tech = cluster_df(tech_cluster, 195)"
   ]
  },
  {
   "cell_type": "code",
   "execution_count": 46,
   "metadata": {},
   "outputs": [
    {
     "name": "stdout",
     "output_type": "stream",
     "text": [
      "['startup', 'development', 'venture', 'developer', 'entrepreneur', 'initiative', 'project'] \n",
      "\n",
      "['robotics', 'robot'] \n",
      "\n",
      "['insurance', 'insurer'] \n",
      "\n",
      "['collaborative', 'partnership', 'engagement', 'collaboration', 'coordination', 'interaction'] \n",
      "\n",
      "['dont', 'whats', 'walmart'] \n",
      "\n",
      "['respiratory', 'lung', 'asthma'] \n",
      "\n",
      "['missouri', 'maryland', 'georgia', 'indiana', 'colorado', 'austin', 'pennsylvania'] \n",
      "\n",
      "['james', 'david', 'richard', 'michael', 'bloomberg'] \n",
      "\n",
      "['compliant', 'compliance'] \n",
      "\n",
      "['supplier', 'subsidiary', 'vendor', 'manufacturer', 'provider', 'carrier'] \n",
      "\n",
      "['smartphones', 'broadband', 'wireless', 'connectivity', 'mobile'] \n",
      "\n",
      "['digitalisation', 'digitization'] \n",
      "\n",
      "['depression', 'alzheimers', 'virus', 'stroke', 'cancer', 'diabetes', 'epilepsy', 'disease', 'kidney', 'illness', 'brain', 'addiction', 'sepsis', 'malignant'] \n",
      "\n",
      "['failure', 'sufficient', 'incomplete', 'inadequate', 'lack', 'insufficient'] \n",
      "\n",
      "['strength', 'respect', 'caution', 'flexibility', 'confidence', 'patience'] \n",
      "\n",
      "['diagnosis', 'bedside', 'treatment', 'hospital', 'acute', 'care', 'patient', 'nursing', 'medication', 'healthcare', 'caregiver', 'bed', 'chronic', 'clinician', 'inpatient'] \n",
      "\n",
      "['research', 'study', 'survey'] \n",
      "\n",
      "['pharmacy', 'practitioner', 'medicine', 'pharmacist', 'nurse', 'therapist', 'clinic', 'prescription', 'dental', 'physician', 'doctor'] \n",
      "\n",
      "['researcher', 'scientist'] \n",
      "\n",
      "['standardization', 'interoperability'] \n",
      "\n",
      "['specialist', 'consultancy', 'consultant', 'expert'] \n",
      "\n",
      "['budget', 'finance', 'revenue', 'credit', 'funding', 'payment', 'debt', 'money', 'financing', 'reimbursement', 'fund'] \n",
      "\n",
      "['agreement', 'alliance', 'deal', 'contract'] \n",
      "\n",
      "['cardiac', 'cardiovascular'] \n",
      "\n",
      "['computer', 'user', 'tablet', 'keyboard', 'apps', 'app', 'ipads', 'device', 'scanner', 'camera', 'smartphone', 'screen', 'sensor', 'laptop'] \n",
      "\n",
      "['ipad', 'samsung', 'iphone'] \n",
      "\n",
      "['consumerism', 'culture'] \n",
      "\n",
      "['genomic', 'bioinformatics', 'genomics'] \n",
      "\n",
      "['opioids', 'opioid'] \n",
      "\n",
      "['prevent', 'factor', 'catalyst', 'attribute', 'outcome', 'consequence', 'impact', 'criterion', 'prompt', 'result'] \n",
      "\n",
      "['monitor', 'monitoring'] \n",
      "\n",
      "['percentage', 'rate', 'benchmark'] \n",
      "\n",
      "['japan', 'france', 'germany', 'europe'] \n",
      "\n",
      "['uk', 'australia'] \n",
      "\n",
      "['realtime', 'visualization', 'bidirectional', 'frontend', 'compression', 'aggregation', 'workflow', 'automation', 'interface', 'module', 'optimization', 'functionality'] \n",
      "\n",
      "['medtech', 'biotech', 'pharma'] \n",
      "\n",
      "['antivirus', 'ransomware'] \n",
      "\n",
      "['north', 'west', 'northeast', 'south'] \n",
      "\n",
      "['information', 'info'] \n",
      "\n",
      "['data', 'database'] \n",
      "\n",
      "['merge', 'merger', 'acquisition'] \n",
      "\n",
      "['goal', 'intention', 'aim', 'purpose', 'mission', 'objective', 'intent', 'desire'] \n",
      "\n",
      "['cyber', 'cybersecurity'] \n",
      "\n",
      "['fire', 'alarm', 'explosion'] \n",
      "\n",
      "['telemedicine', 'telehealth'] \n",
      "\n",
      "['dataset', 'datasets'] \n",
      "\n",
      "['api', 'apis', 'xml'] \n",
      "\n",
      "['premier', 'speaker', 'leadership', 'leader'] \n",
      "\n",
      "['laboratory', 'lab'] \n",
      "\n",
      "['emphasis', 'attention', 'topic', 'priority', 'theme', 'focus'] \n",
      "\n",
      "['backoffice', 'enterprisewide', 'cloud', 'ecosystem', 'hardware', 'server', 'software', 'enterprise'] \n",
      "\n",
      "['launch', 'creation', 'ehealth', 'nextgen', 'embrace', 'evolution', 'proliferation', 'generation', 'advent', 'introduction'] \n",
      "\n",
      "['partner', 'president', 'cio', 'chair', 'associate', 'marketing', 'founder', 'cochair', 'administrator', 'executive', 'manager', 'head', 'chief'] \n",
      "\n",
      "['aid', 'assistance'] \n",
      "\n",
      "['school', 'university', 'campus', 'student'] \n",
      "\n",
      "['responsibility', 'burden'] \n",
      "\n",
      "['intelligence', 'intel'] \n",
      "\n",
      "['transparency', 'integrity', 'governance', 'transparent', 'oversight'] \n",
      "\n",
      "['pattern', 'trend'] \n",
      "\n",
      "['shareholder', 'investor', 'investment'] \n",
      "\n",
      "['philosophy', 'method', 'approach', 'strategy', 'procedure', 'process', 'concept', 'technique'] \n",
      "\n",
      "['employee', 'employer', 'customer', 'worker'] \n",
      "\n",
      "['integration', 'adoption', 'implementation', 'deployment', 'rollout'] \n",
      "\n",
      "['alcohol', 'drug', 'insulin'] \n",
      "\n",
      "['presentation', 'keynote', 'press', 'conference', 'news', 'speech', 'statement'] \n",
      "\n",
      "['fax', 'email'] \n",
      "\n",
      "['neurology', 'orthopedics', 'cardiology', 'radiology'] \n",
      "\n",
      "['vote', 'bill', 'package', 'provision', 'plan', 'passage', 'proposal'] \n",
      "\n",
      "['bluetooth', 'wifi'] \n",
      "\n",
      "['input', 'feedback'] \n",
      "\n",
      "['evaluation', 'review', 'report', 'assessment', 'analysis', 'audit', 'recommendation'] \n",
      "\n",
      "['loss', 'infusion', 'increase', 'improvement', 'percent', 'boost', 'reduction', 'growth', 'gain'] \n",
      "\n",
      "['mapping', 'map'] \n",
      "\n",
      "['medicare', 'medicaid'] \n",
      "\n",
      "['backing', 'support', 'backer'] \n",
      "\n",
      "['nation', 'worldwide', 'region', 'world', 'country'] \n",
      "\n",
      "['reporter', 'mother', 'friend', 'sister', 'neighbor', 'colleague', 'woman', 'family'] \n",
      "\n",
      "['portal', 'internet', 'website', 'facebook', 'site', 'click', 'online', 'content', 'web'] \n",
      "\n",
      "['diverse', 'diversity', 'disparate'] \n",
      "\n",
      "['surgery', 'surgeon'] \n",
      "\n",
      "['innovator', 'pioneer'] \n",
      "\n",
      "['frictionless', 'seamless'] \n",
      "\n",
      "['liaison', 'secretary', 'member', 'representative', 'representation'] \n",
      "\n"
     ]
    }
   ],
   "source": [
    "again15_30 = []\n",
    "again31_40 = []\n",
    "again40_50 = []\n",
    "for i in const_tech:\n",
    "    if len(i) <= 15 and len(i) > 1:\n",
    "        print(i, '\\n')\n",
    "    elif len(i) > 15 and len(i) <= 30:\n",
    "        again15_30.append(i)\n",
    "    elif len(i) > 30 and len(i) <= 40:\n",
    "        again31_40.append(i)\n",
    "    elif len(i) > 40 and len(i) <= 50:\n",
    "        again40_50.append(i)\n",
    "    else:\n",
    "        pass"
   ]
  },
  {
   "cell_type": "code",
   "execution_count": 47,
   "metadata": {},
   "outputs": [
    {
     "name": "stdout",
     "output_type": "stream",
     "text": [
      "11 0 0\n"
     ]
    }
   ],
   "source": [
    "print(len(again15_30), len(again31_40), len(again40_50))"
   ]
  },
  {
   "cell_type": "code",
   "execution_count": 6,
   "metadata": {},
   "outputs": [],
   "source": [
    "def print_others(x, number):\n",
    "    for i in x:\n",
    "        again_w2v, again_word = get_w2v(i)\n",
    "        again_cluster = k_means(again_w2v, number, again_word)\n",
    "        num, again_final = cluster_df(again_cluster, number)\n",
    "        print('len of clusters:', len(again_final))\n",
    "        for i in again_final:\n",
    "            if len(i) > 1:\n",
    "                print(i, '\\n')"
   ]
  },
  {
   "cell_type": "code",
   "execution_count": 48,
   "metadata": {
    "scrolled": true
   },
   "outputs": [
    {
     "name": "stdout",
     "output_type": "stream",
     "text": [
      "len of clusters: 3\n",
      "['siri', 'bos', 'hie', 'san', 'bain', 'wa', 'ama', 'hong', 'saas', 'ehr', 'abu', 'roi', 'dod', 'baa'] \n",
      "\n",
      "['le', 'va'] \n",
      "\n",
      "len of clusters: 3\n",
      "['capitol', 'official', 'citizen', 'administration', 'county', 'office', 'city', 'ministry', 'senate', 'payer', 'congress', 'party', 'department', 'capital', 'state', 'army', 'population', 'law', 'public', 'province', 'government'] \n",
      "\n",
      "['economy', 'policymakers', 'policy', 'crisis'] \n",
      "\n",
      "len of clusters: 3\n",
      "['time', 'dozen', 'fiveyear', 'session', 'thousand', 'yearold', 'decade', 'year', 'week', 'day', 'half', 'career', 'month'] \n",
      "\n",
      "['century', 'millennium'] \n",
      "\n",
      "['sunrise', 'dawn'] \n",
      "\n",
      "len of clusters: 3\n",
      "['group', 'community', 'organization', 'institute', 'charity', 'nonprofit', 'board', 'grassroots', 'foundation', 'association'] \n",
      "\n",
      "['institution', 'entity'] \n",
      "\n",
      "['consortium', 'advisory', 'stakeholder', 'firm', 'affiliate', 'agency'] \n",
      "\n",
      "len of clusters: 3\n",
      "['education', 'instruction', 'training', 'fitness', 'wellness', 'academy'] \n",
      "\n",
      "['work', 'staff', 'frontline', 'health', 'job', 'workforce', 'recruitment', 'labor', 'parttime'] \n",
      "\n",
      "['participation', 'commitment', 'prevention', 'practice', 'contribution', 'effort', 'progress', 'campaign', 'volunteer'] \n",
      "\n",
      "len of clusters: 3\n",
      "['lesson', 'reminder', 'learn'] \n",
      "\n",
      "['situation', 'sort', 'perspective', 'opportunity', 'think', 'mind', 'way', 'look', 'aspect', 'idea', 'hope'] \n",
      "\n",
      "['kind', 'thing', 'everything', 'talk', 'sport', 'everyone', 'someone', 'kid', 'guy', 'lot', 'nothing', 'something'] \n",
      "\n",
      "len of clusters: 3\n",
      "['communication', 'safety', 'infrastructure', 'travel', 'protection', 'bridge', 'security', 'transport', 'transportation', 'mitigation'] \n",
      "\n",
      "['disaster', 'notification', 'emergency', 'response', 'urgent', 'alert'] \n",
      "\n",
      "['phone', 'address', 'voice', 'hearing'] \n",
      "\n",
      "len of clusters: 3\n",
      "['build', 'upgrade'] \n",
      "\n",
      "['trip', 'march', 'visit', 'ride'] \n",
      "\n",
      "['step', 'decision', 'appointment', 'transformation', 'transfer', 'shift', 'switch', 'change', 'leap', 'move', 'transition'] \n",
      "\n",
      "len of clusters: 3\n",
      "['pac', 'johnson', 'washington', 'penn', 'boston', 'cleveland'] \n",
      "\n",
      "['clark', 'jones', 'att', 'september', 'phillips', 'henry', 'smith', 'john'] \n",
      "\n",
      "['daniel', 'watson', 'lawrence', 'oxford', 'beth', 'morgan', 'nh', 'santa', 'matthew', 'shaw', 'jefferson', 'philip'] \n",
      "\n",
      "len of clusters: 3\n",
      "['sale', 'inventory', 'price', 'demand', 'purchasing', 'supply', 'stock', 'volume', 'value', 'ownership'] \n",
      "\n",
      "['consumer', 'business', 'industry', 'company', 'trade', 'brand', 'product', 'market', 'marketplace', 'portfolio'] \n",
      "\n",
      "len of clusters: 3\n",
      "['delay', 'disruption', 'deficiency'] \n",
      "\n",
      "['pressure', 'challenge', 'difficulty', 'concern', 'pain', 'threat', 'shortage', 'headache', 'risk', 'problem', 'vulnerability', 'issue'] \n",
      "\n"
     ]
    }
   ],
   "source": [
    "print_others(again15_30, 3)\n",
    "print_others(again31_40, 4)\n",
    "print_others(again40_50, 5)"
   ]
  },
  {
   "cell_type": "markdown",
   "metadata": {},
   "source": [
    "## For co-occurrence(Tech, Org)"
   ]
  },
  {
   "cell_type": "code",
   "execution_count": 5,
   "metadata": {},
   "outputs": [],
   "source": [
    "with open('org_rm_cent.pkl', 'rb') as f:\n",
    "    org_co_df = pickle.load(f)\n",
    "with open('tech_rm_cent.pkl', 'rb') as f:\n",
    "    tech_co_df = pickle.load(f)"
   ]
  },
  {
   "cell_type": "code",
   "execution_count": 15,
   "metadata": {},
   "outputs": [],
   "source": [
    "org_co_w2v, org_co_words = get_w2v(org_co_df['names1'].tolist())"
   ]
  },
  {
   "cell_type": "code",
   "execution_count": null,
   "metadata": {},
   "outputs": [],
   "source": [
    "# clustering\n",
    "org_co_clusters = k_means(org_co_w2v, 150, org_co_words)\n",
    "number_co_org, final_co_org = cluster_df(org_co_clusters, 150)"
   ]
  },
  {
   "cell_type": "code",
   "execution_count": 26,
   "metadata": {},
   "outputs": [],
   "source": [
    "tech_co_w2v, tech_co_words = get_w2v(tech_co_df['names2'].tolist())"
   ]
  },
  {
   "cell_type": "code",
   "execution_count": 28,
   "metadata": {},
   "outputs": [],
   "source": [
    "# clustering\n",
    "tech_co_clusters = k_means(tech_co_w2v, 185, tech_co_words)\n",
    "number_co_tech, final_co_tech = cluster_df(tech_co_clusters, 185)"
   ]
  },
  {
   "cell_type": "markdown",
   "metadata": {},
   "source": [
    "## Fro co-occurrence(All categories)"
   ]
  },
  {
   "cell_type": "markdown",
   "metadata": {},
   "source": [
    "### Sentence & Document"
   ]
  },
  {
   "cell_type": "code",
   "execution_count": 74,
   "metadata": {},
   "outputs": [],
   "source": [
    "# Load original df\n",
    "with open('morpho_df.pkl', 'rb') as f:\n",
    "    df = pickle.load(f)\n",
    "\n",
    "# This list is for filtering(snetence or document)\n",
    "# doc_rm_cent.pkl or sent_rm_cent.pkl\n",
    "with open('doc_rm_cent.pkl', 'rb') as f:\n",
    "    doc_co_list = pickle.load(f)"
   ]
  },
  {
   "cell_type": "code",
   "execution_count": 30,
   "metadata": {},
   "outputs": [],
   "source": [
    "df = pd.read_excel('morpho_df.xlsx')"
   ]
  },
  {
   "cell_type": "code",
   "execution_count": 24,
   "metadata": {},
   "outputs": [
    {
     "data": {
      "text/plain": [
       "(831, 213, 7899, 3444, 1011)"
      ]
     },
     "execution_count": 24,
     "metadata": {},
     "output_type": "execute_result"
    }
   ],
   "source": [
    "# remove duplicates and make list for each column\n",
    "# And get filtered words by removing words which have low centrality\n",
    "\n",
    "product_o = list(set(df['ppl_product'].dropna()))\n",
    "\n",
    "norp_o = list(set(df['ppl_norp'].dropna()))\n",
    "\n",
    "org_o = list(set(df['ppl_org'].dropna()))\n",
    "\n",
    "tech_o = list(set(df['technology'].dropna()))\n",
    "\n",
    "sys_o = list(set(df['system'].dropna()))\n",
    "\n",
    "len(product_o), len(norp_o), len(org_o), len(tech_o), len(sys_o)"
   ]
  },
  {
   "cell_type": "code",
   "execution_count": 27,
   "metadata": {},
   "outputs": [
    {
     "name": "stdout",
     "output_type": "stream",
     "text": [
      "221 83 1066 635 492\n"
     ]
    }
   ],
   "source": [
    "product_w2v, product_new = get_w2v(prod)\n",
    "norp_w2v, norp_new = get_w2v(norp_o)\n",
    "org_w2v, org_new = get_w2v(org)\n",
    "tech_w2v, tech_new = get_w2v(tech)\n",
    "sys_w2v, sys_new = get_w2v(sys)\n",
    "print(len(product_new), len(norp_new), len(org_new), len(tech_new), len(sys_new))"
   ]
  },
  {
   "cell_type": "code",
   "execution_count": 34,
   "metadata": {},
   "outputs": [],
   "source": [
    "norp_w2v, norp_new = get_w2v(norp_o)"
   ]
  },
  {
   "cell_type": "code",
   "execution_count": 35,
   "metadata": {},
   "outputs": [
    {
     "data": {
      "text/plain": [
       "83"
      ]
     },
     "execution_count": 35,
     "metadata": {},
     "output_type": "execute_result"
    }
   ],
   "source": [
    "len(norp_new)"
   ]
  },
  {
   "cell_type": "code",
   "execution_count": 62,
   "metadata": {},
   "outputs": [],
   "source": [
    "# clustering\n",
    "sent_product_k = k_means(product_w2v, 76, product_new)\n",
    "number, sent_prod = cluster_df(sent_product_k, 76)"
   ]
  },
  {
   "cell_type": "code",
   "execution_count": 78,
   "metadata": {},
   "outputs": [],
   "source": [
    "sent_org_k = k_means(org_w2v, 260, org_new)\n",
    "number, sent_org = cluster_df(sent_org_k, 260)"
   ]
  },
  {
   "cell_type": "code",
   "execution_count": 82,
   "metadata": {},
   "outputs": [],
   "source": [
    "sent_tech_k = k_means(tech_w2v, 160, tech_new)\n",
    "number, sent_tech = cluster_df(sent_tech_k, 160)"
   ]
  },
  {
   "cell_type": "code",
   "execution_count": 88,
   "metadata": {},
   "outputs": [],
   "source": [
    "sent_sys_k = k_means(sys_w2v, 35, sys_new)\n",
    "number, sent_sys = cluster_df(sent_sys_k, 35)"
   ]
  },
  {
   "cell_type": "code",
   "execution_count": 73,
   "metadata": {},
   "outputs": [
    {
     "name": "stdout",
     "output_type": "stream",
     "text": [
      "['singaporean', 'latino', 'baptist', 'bill', 'iam', 'iot', 'harrison', 'arab', 'trans', 'american', 'selfservice', 'publicsector', 'google', 'german', 'cio', 'chopra', 'york', 'england', 'australian', 'bowen', 'italian', 'yorkers', 'point', 'katz', 'cuban', 'philippine', 'infosec', 'hoosier', 'libs', 'healthcare', 'east', 'venetian', 'arabic', 'dutch', 'yearold', 'intel', 'getgo', 'filipino', 'cuttingedge', 'laboratorians']\n"
     ]
    }
   ],
   "source": [
    "print(norp_new)"
   ]
  },
  {
   "cell_type": "markdown",
   "metadata": {},
   "source": [
    "# For Structural Holes"
   ]
  },
  {
   "cell_type": "markdown",
   "metadata": {},
   "source": [
    "## 1. Constraints"
   ]
  },
  {
   "cell_type": "code",
   "execution_count": 31,
   "metadata": {},
   "outputs": [
    {
     "name": "stdout",
     "output_type": "stream",
     "text": [
      "5306\n",
      "4148\n"
     ]
    }
   ],
   "source": [
    "# Load original df\n",
    "df = pd.read_excel('morpho_df.xlsx')\n",
    "\n",
    "# This list is for filtering(snetence or document)\n",
    "# doc_rm_cent.pkl or sent_rm_cent.pkl\n",
    "doc_const = pd.read_csv('doc_constraint.csv')\n",
    "doc_const.sort_values(by=['V1'], inplace=True)\n",
    "print(len(doc_const))\n",
    "doc_const_filt = doc_const[doc_const['V1'] >= 0.04]\n",
    "doc_const_list = doc_const_filt['Unnamed: 0'].tolist()\n",
    "print(len(doc_const_list))"
   ]
  },
  {
   "cell_type": "code",
   "execution_count": 32,
   "metadata": {},
   "outputs": [],
   "source": [
    "# remove duplicates and make list for each column\n",
    "# And get filtered words by removing words which have low centrality\n",
    "def filtered_words(x, filt):\n",
    "    set_words = list(set(x.dropna()))\n",
    "    filt_w2v, filt_w2v_words = get_w2v(set_words)\n",
    "    filt_const_w2v = []\n",
    "    filt_const = []\n",
    "    for i, j in zip(filt_w2v, filt_w2v_words):\n",
    "        if not j in filt:\n",
    "            filt_const_w2v.append(i)\n",
    "            filt_const.append(j)\n",
    "    print(len(filt_w2v_words), '->', len(filt_const))\n",
    "    return filt_const_w2v, filt_const"
   ]
  },
  {
   "cell_type": "code",
   "execution_count": 33,
   "metadata": {},
   "outputs": [
    {
     "name": "stdout",
     "output_type": "stream",
     "text": [
      "533 -> 319\n",
      "83 -> 26\n",
      "4045 -> 1615\n",
      "2542 -> 1063\n",
      "824 -> 560\n"
     ]
    }
   ],
   "source": [
    "prod_w2v, prod = filtered_words(df['ppl_product'], doc_const_list)\n",
    "norp_w2v, norp = filtered_words(df['ppl_norp'], doc_const_list)\n",
    "org_w2v, org = filtered_words(df['ppl_org'], doc_const_list)\n",
    "tech_w2v, tech = filtered_words(df['technology'], doc_const_list)\n",
    "sys_w2v, sys = filtered_words(df['system'], doc_const_list)"
   ]
  },
  {
   "cell_type": "code",
   "execution_count": 36,
   "metadata": {},
   "outputs": [],
   "source": [
    "df = pd.DataFrame([pd.Series(norp_new), pd.Series(org), pd.Series(prod), pd.Series(tech), pd.Series(sys)]).T\n",
    "df.to_excel('morph_df_filtered.xlsx')"
   ]
  },
  {
   "cell_type": "code",
   "execution_count": 38,
   "metadata": {},
   "outputs": [],
   "source": [
    "# clustering\n",
    "doc_const_org = k_means(org_w2v, 310, org)\n",
    "number, const_org = cluster_df(doc_const_org, 310)"
   ]
  },
  {
   "cell_type": "code",
   "execution_count": 45,
   "metadata": {},
   "outputs": [],
   "source": [
    "doc_const_tech = k_means(tech_w2v, 185, tech)\n",
    "number, const_tech = cluster_df(doc_const_tech, 185)"
   ]
  },
  {
   "cell_type": "markdown",
   "metadata": {},
   "source": [
    "## 2. Efficiency"
   ]
  },
  {
   "cell_type": "code",
   "execution_count": 10,
   "metadata": {},
   "outputs": [
    {
     "data": {
      "text/html": [
       "<div>\n",
       "<style scoped>\n",
       "    .dataframe tbody tr th:only-of-type {\n",
       "        vertical-align: middle;\n",
       "    }\n",
       "\n",
       "    .dataframe tbody tr th {\n",
       "        vertical-align: top;\n",
       "    }\n",
       "\n",
       "    .dataframe thead th {\n",
       "        text-align: right;\n",
       "    }\n",
       "</style>\n",
       "<table border=\"1\" class=\"dataframe\">\n",
       "  <thead>\n",
       "    <tr style=\"text-align: right;\">\n",
       "      <th></th>\n",
       "      <th>words</th>\n",
       "      <th>efficiency</th>\n",
       "    </tr>\n",
       "  </thead>\n",
       "  <tbody>\n",
       "    <tr>\n",
       "      <th>590</th>\n",
       "      <td>brent</td>\n",
       "      <td>0.005464</td>\n",
       "    </tr>\n",
       "    <tr>\n",
       "      <th>3391</th>\n",
       "      <td>oliver</td>\n",
       "      <td>0.005464</td>\n",
       "    </tr>\n",
       "    <tr>\n",
       "      <th>782</th>\n",
       "      <td>chancellor</td>\n",
       "      <td>0.005464</td>\n",
       "    </tr>\n",
       "    <tr>\n",
       "      <th>1272</th>\n",
       "      <td>davos</td>\n",
       "      <td>0.005464</td>\n",
       "    </tr>\n",
       "    <tr>\n",
       "      <th>3395</th>\n",
       "      <td>omar</td>\n",
       "      <td>0.005464</td>\n",
       "    </tr>\n",
       "    <tr>\n",
       "      <th>2926</th>\n",
       "      <td>marc</td>\n",
       "      <td>0.005464</td>\n",
       "    </tr>\n",
       "    <tr>\n",
       "      <th>3541</th>\n",
       "      <td>passport</td>\n",
       "      <td>0.005464</td>\n",
       "    </tr>\n",
       "    <tr>\n",
       "      <th>2945</th>\n",
       "      <td>marrow</td>\n",
       "      <td>0.005464</td>\n",
       "    </tr>\n",
       "    <tr>\n",
       "      <th>127</th>\n",
       "      <td>alex</td>\n",
       "      <td>0.005464</td>\n",
       "    </tr>\n",
       "    <tr>\n",
       "      <th>3740</th>\n",
       "      <td>ppd</td>\n",
       "      <td>0.005464</td>\n",
       "    </tr>\n",
       "    <tr>\n",
       "      <th>2328</th>\n",
       "      <td>ice</td>\n",
       "      <td>0.005464</td>\n",
       "    </tr>\n",
       "    <tr>\n",
       "      <th>52</th>\n",
       "      <td>adc</td>\n",
       "      <td>0.005464</td>\n",
       "    </tr>\n",
       "    <tr>\n",
       "      <th>4768</th>\n",
       "      <td>technologies</td>\n",
       "      <td>0.005464</td>\n",
       "    </tr>\n",
       "    <tr>\n",
       "      <th>2243</th>\n",
       "      <td>hockey</td>\n",
       "      <td>0.005464</td>\n",
       "    </tr>\n",
       "    <tr>\n",
       "      <th>477</th>\n",
       "      <td>bioproducts</td>\n",
       "      <td>0.005464</td>\n",
       "    </tr>\n",
       "    <tr>\n",
       "      <th>483</th>\n",
       "      <td>biosimilars</td>\n",
       "      <td>0.005464</td>\n",
       "    </tr>\n",
       "    <tr>\n",
       "      <th>2688</th>\n",
       "      <td>kraft</td>\n",
       "      <td>0.005464</td>\n",
       "    </tr>\n",
       "    <tr>\n",
       "      <th>5099</th>\n",
       "      <td>vincent</td>\n",
       "      <td>0.005464</td>\n",
       "    </tr>\n",
       "    <tr>\n",
       "      <th>3019</th>\n",
       "      <td>membrane</td>\n",
       "      <td>0.005464</td>\n",
       "    </tr>\n",
       "    <tr>\n",
       "      <th>812</th>\n",
       "      <td>chemistry</td>\n",
       "      <td>0.005464</td>\n",
       "    </tr>\n",
       "    <tr>\n",
       "      <th>3055</th>\n",
       "      <td>michel</td>\n",
       "      <td>0.005464</td>\n",
       "    </tr>\n",
       "    <tr>\n",
       "      <th>3164</th>\n",
       "      <td>motion</td>\n",
       "      <td>0.005464</td>\n",
       "    </tr>\n",
       "    <tr>\n",
       "      <th>4288</th>\n",
       "      <td>sciences</td>\n",
       "      <td>0.005464</td>\n",
       "    </tr>\n",
       "    <tr>\n",
       "      <th>724</th>\n",
       "      <td>carveout</td>\n",
       "      <td>0.005464</td>\n",
       "    </tr>\n",
       "    <tr>\n",
       "      <th>488</th>\n",
       "      <td>biotherapeutics</td>\n",
       "      <td>0.005464</td>\n",
       "    </tr>\n",
       "    <tr>\n",
       "      <th>675</th>\n",
       "      <td>canal</td>\n",
       "      <td>0.005587</td>\n",
       "    </tr>\n",
       "    <tr>\n",
       "      <th>3533</th>\n",
       "      <td>parttime</td>\n",
       "      <td>0.005587</td>\n",
       "    </tr>\n",
       "    <tr>\n",
       "      <th>3059</th>\n",
       "      <td>microbiology</td>\n",
       "      <td>0.005587</td>\n",
       "    </tr>\n",
       "    <tr>\n",
       "      <th>5051</th>\n",
       "      <td>valve</td>\n",
       "      <td>0.005587</td>\n",
       "    </tr>\n",
       "    <tr>\n",
       "      <th>247</th>\n",
       "      <td>ashley</td>\n",
       "      <td>0.005587</td>\n",
       "    </tr>\n",
       "    <tr>\n",
       "      <th>...</th>\n",
       "      <td>...</td>\n",
       "      <td>...</td>\n",
       "    </tr>\n",
       "    <tr>\n",
       "      <th>4320</th>\n",
       "      <td>security</td>\n",
       "      <td>0.877846</td>\n",
       "    </tr>\n",
       "    <tr>\n",
       "      <th>4876</th>\n",
       "      <td>tool</td>\n",
       "      <td>0.878744</td>\n",
       "    </tr>\n",
       "    <tr>\n",
       "      <th>3870</th>\n",
       "      <td>provider</td>\n",
       "      <td>0.882040</td>\n",
       "    </tr>\n",
       "    <tr>\n",
       "      <th>2449</th>\n",
       "      <td>innovation</td>\n",
       "      <td>0.882116</td>\n",
       "    </tr>\n",
       "    <tr>\n",
       "      <th>3004</th>\n",
       "      <td>medicine</td>\n",
       "      <td>0.884885</td>\n",
       "    </tr>\n",
       "    <tr>\n",
       "      <th>3674</th>\n",
       "      <td>platform</td>\n",
       "      <td>0.888134</td>\n",
       "    </tr>\n",
       "    <tr>\n",
       "      <th>641</th>\n",
       "      <td>business</td>\n",
       "      <td>0.888497</td>\n",
       "    </tr>\n",
       "    <tr>\n",
       "      <th>3280</th>\n",
       "      <td>news</td>\n",
       "      <td>0.889096</td>\n",
       "    </tr>\n",
       "    <tr>\n",
       "      <th>2095</th>\n",
       "      <td>group</td>\n",
       "      <td>0.890948</td>\n",
       "    </tr>\n",
       "    <tr>\n",
       "      <th>4078</th>\n",
       "      <td>research</td>\n",
       "      <td>0.893823</td>\n",
       "    </tr>\n",
       "    <tr>\n",
       "      <th>2905</th>\n",
       "      <td>management</td>\n",
       "      <td>0.900819</td>\n",
       "    </tr>\n",
       "    <tr>\n",
       "      <th>5010</th>\n",
       "      <td>university</td>\n",
       "      <td>0.904342</td>\n",
       "    </tr>\n",
       "    <tr>\n",
       "      <th>167</th>\n",
       "      <td>analytics</td>\n",
       "      <td>0.905845</td>\n",
       "    </tr>\n",
       "    <tr>\n",
       "      <th>1346</th>\n",
       "      <td>department</td>\n",
       "      <td>0.912897</td>\n",
       "    </tr>\n",
       "    <tr>\n",
       "      <th>2429</th>\n",
       "      <td>information</td>\n",
       "      <td>0.917191</td>\n",
       "    </tr>\n",
       "    <tr>\n",
       "      <th>757</th>\n",
       "      <td>center</td>\n",
       "      <td>0.920750</td>\n",
       "    </tr>\n",
       "    <tr>\n",
       "      <th>997</th>\n",
       "      <td>company</td>\n",
       "      <td>0.922832</td>\n",
       "    </tr>\n",
       "    <tr>\n",
       "      <th>3439</th>\n",
       "      <td>organization</td>\n",
       "      <td>0.933094</td>\n",
       "    </tr>\n",
       "    <tr>\n",
       "      <th>3551</th>\n",
       "      <td>patient</td>\n",
       "      <td>0.933528</td>\n",
       "    </tr>\n",
       "    <tr>\n",
       "      <th>706</th>\n",
       "      <td>care</td>\n",
       "      <td>0.934395</td>\n",
       "    </tr>\n",
       "    <tr>\n",
       "      <th>4354</th>\n",
       "      <td>service</td>\n",
       "      <td>0.936616</td>\n",
       "    </tr>\n",
       "    <tr>\n",
       "      <th>4721</th>\n",
       "      <td>system</td>\n",
       "      <td>0.941336</td>\n",
       "    </tr>\n",
       "    <tr>\n",
       "      <th>2278</th>\n",
       "      <td>hospital</td>\n",
       "      <td>0.947572</td>\n",
       "    </tr>\n",
       "    <tr>\n",
       "      <th>4770</th>\n",
       "      <td>technology</td>\n",
       "      <td>0.948912</td>\n",
       "    </tr>\n",
       "    <tr>\n",
       "      <th>1261</th>\n",
       "      <td>data</td>\n",
       "      <td>0.952038</td>\n",
       "    </tr>\n",
       "    <tr>\n",
       "      <th>2184</th>\n",
       "      <td>health</td>\n",
       "      <td>0.960924</td>\n",
       "    </tr>\n",
       "    <tr>\n",
       "      <th>2185</th>\n",
       "      <td>healthcare</td>\n",
       "      <td>0.965215</td>\n",
       "    </tr>\n",
       "    <tr>\n",
       "      <th>4478</th>\n",
       "      <td>sole</td>\n",
       "      <td>1.000000</td>\n",
       "    </tr>\n",
       "    <tr>\n",
       "      <th>3885</th>\n",
       "      <td>publicity</td>\n",
       "      <td>1.000000</td>\n",
       "    </tr>\n",
       "    <tr>\n",
       "      <th>3784</th>\n",
       "      <td>preston</td>\n",
       "      <td>NaN</td>\n",
       "    </tr>\n",
       "  </tbody>\n",
       "</table>\n",
       "<p>5306 rows × 2 columns</p>\n",
       "</div>"
      ],
      "text/plain": [
       "                words  efficiency\n",
       "590             brent    0.005464\n",
       "3391           oliver    0.005464\n",
       "782        chancellor    0.005464\n",
       "1272            davos    0.005464\n",
       "3395             omar    0.005464\n",
       "2926             marc    0.005464\n",
       "3541         passport    0.005464\n",
       "2945           marrow    0.005464\n",
       "127              alex    0.005464\n",
       "3740              ppd    0.005464\n",
       "2328              ice    0.005464\n",
       "52                adc    0.005464\n",
       "4768     technologies    0.005464\n",
       "2243           hockey    0.005464\n",
       "477       bioproducts    0.005464\n",
       "483       biosimilars    0.005464\n",
       "2688            kraft    0.005464\n",
       "5099          vincent    0.005464\n",
       "3019         membrane    0.005464\n",
       "812         chemistry    0.005464\n",
       "3055           michel    0.005464\n",
       "3164           motion    0.005464\n",
       "4288         sciences    0.005464\n",
       "724          carveout    0.005464\n",
       "488   biotherapeutics    0.005464\n",
       "675             canal    0.005587\n",
       "3533         parttime    0.005587\n",
       "3059     microbiology    0.005587\n",
       "5051            valve    0.005587\n",
       "247            ashley    0.005587\n",
       "...               ...         ...\n",
       "4320         security    0.877846\n",
       "4876             tool    0.878744\n",
       "3870         provider    0.882040\n",
       "2449       innovation    0.882116\n",
       "3004         medicine    0.884885\n",
       "3674         platform    0.888134\n",
       "641          business    0.888497\n",
       "3280             news    0.889096\n",
       "2095            group    0.890948\n",
       "4078         research    0.893823\n",
       "2905       management    0.900819\n",
       "5010       university    0.904342\n",
       "167         analytics    0.905845\n",
       "1346       department    0.912897\n",
       "2429      information    0.917191\n",
       "757            center    0.920750\n",
       "997           company    0.922832\n",
       "3439     organization    0.933094\n",
       "3551          patient    0.933528\n",
       "706              care    0.934395\n",
       "4354          service    0.936616\n",
       "4721           system    0.941336\n",
       "2278         hospital    0.947572\n",
       "4770       technology    0.948912\n",
       "1261             data    0.952038\n",
       "2184           health    0.960924\n",
       "2185       healthcare    0.965215\n",
       "4478             sole    1.000000\n",
       "3885        publicity    1.000000\n",
       "3784          preston         NaN\n",
       "\n",
       "[5306 rows x 2 columns]"
      ]
     },
     "execution_count": 10,
     "metadata": {},
     "output_type": "execute_result"
    }
   ],
   "source": [
    "# Calculate efficiency\n",
    "doc_effecsize = pd.read_csv('doc_effecsize.csv')\n",
    "doc_degree = pd.read_csv('doc_degree.csv')\n",
    "effecsize = doc_effecsize['V1'].tolist()\n",
    "degree = doc_degree['V1'].tolist()\n",
    "efficiency = []\n",
    "for i, j in zip(effecsize, degree):\n",
    "    try:\n",
    "        result = i / j\n",
    "        efficiency.append(result)\n",
    "    except:\n",
    "        efficiency.append(None)\n",
    "efficiency_df = pd.DataFrame({'words' : doc_effecsize['Unnamed: 0'].tolist(),\n",
    "                             'efficiency' : efficiency})\n",
    "efficiency_df.sort_values(by='efficiency', inplace=True)\n",
    "efficiency_df"
   ]
  },
  {
   "cell_type": "code",
   "execution_count": 30,
   "metadata": {},
   "outputs": [],
   "source": [
    "effi_df = efficiency_df[:2500]['words'].tolist()"
   ]
  },
  {
   "cell_type": "code",
   "execution_count": 31,
   "metadata": {},
   "outputs": [
    {
     "data": {
      "text/plain": [
       "2334"
      ]
     },
     "execution_count": 31,
     "metadata": {},
     "output_type": "execute_result"
    }
   ],
   "source": [
    "sum_effi_const = effi_df + doc_const_list\n",
    "count = Counter(sum_effi_const)\n",
    "duplicates = [k for k, j in count.items() if j > 1]\n",
    "len(duplicates)"
   ]
  },
  {
   "cell_type": "code",
   "execution_count": null,
   "metadata": {},
   "outputs": [],
   "source": []
  }
 ],
 "metadata": {
  "kernelspec": {
   "display_name": "Python 3",
   "language": "python",
   "name": "python3"
  },
  "language_info": {
   "codemirror_mode": {
    "name": "ipython",
    "version": 3
   },
   "file_extension": ".py",
   "mimetype": "text/x-python",
   "name": "python",
   "nbconvert_exporter": "python",
   "pygments_lexer": "ipython3",
   "version": "3.8.3"
  }
 },
 "nbformat": 4,
 "nbformat_minor": 2
}
